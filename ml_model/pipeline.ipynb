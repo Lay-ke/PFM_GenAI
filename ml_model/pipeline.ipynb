{
 "cells": [
  {
   "cell_type": "markdown",
   "id": "1946ef10-c24e-4615-b24a-3a822da3c3f0",
   "metadata": {},
   "source": [
    "# Model Training Pipeline"
   ]
  },
  {
   "cell_type": "markdown",
   "id": "69bd402f-6373-47ad-a5c7-c57b4d6a38e7",
   "metadata": {},
   "source": [
    "## imports"
   ]
  },
  {
   "cell_type": "code",
   "execution_count": 38,
   "id": "f809c4de-a174-4cdf-a312-fb1c85013b16",
   "metadata": {
    "execution": {
     "iopub.execute_input": "2025-09-11T10:27:49.412181Z",
     "iopub.status.busy": "2025-09-11T10:27:49.411911Z",
     "iopub.status.idle": "2025-09-11T10:27:49.415242Z",
     "shell.execute_reply": "2025-09-11T10:27:49.414566Z",
     "shell.execute_reply.started": "2025-09-11T10:27:49.412159Z"
    }
   },
   "outputs": [],
   "source": [
    "import boto3\n",
    "import sagemaker\n",
    "from sagemaker.pytorch import PyTorch"
   ]
  },
  {
   "cell_type": "markdown",
   "id": "8bfd91b2-32ce-4401-b5f9-f047f59808da",
   "metadata": {},
   "source": [
    "## Training Job"
   ]
  },
  {
   "cell_type": "code",
   "execution_count": 25,
   "id": "df4cbc1a-9b05-473f-b071-d61e851c8d47",
   "metadata": {
    "execution": {
     "iopub.execute_input": "2025-09-11T07:06:15.197860Z",
     "iopub.status.busy": "2025-09-11T07:06:15.197576Z",
     "iopub.status.idle": "2025-09-11T07:06:15.251013Z",
     "shell.execute_reply": "2025-09-11T07:06:15.250324Z",
     "shell.execute_reply.started": "2025-09-11T07:06:15.197839Z"
    }
   },
   "outputs": [
    {
     "name": "stdout",
     "output_type": "stream",
     "text": [
      "Dataset location: s3://relu-bucket/conveyor_fault_dataset.csv\n"
     ]
    }
   ],
   "source": [
    "session = sagemaker.Session()\n",
    "role = sagemaker.get_execution_role()\n",
    "bucket = \"relu-bucket\"\n",
    "\n",
    "# Path to training data in S3\n",
    "s3_train_path = f\"s3://{bucket}/conveyor_fault_dataset.csv\"\n",
    "\n",
    "print(\"Dataset location:\", s3_train_path)"
   ]
  },
  {
   "cell_type": "markdown",
   "id": "108db4fe-707f-4e76-9a5b-2dcc51f6d733",
   "metadata": {},
   "source": [
    "## Training Script"
   ]
  },
  {
   "cell_type": "code",
   "execution_count": null,
   "id": "bae11f5d-76fc-4684-99f1-e0b1a1232044",
   "metadata": {},
   "outputs": [],
   "source": [
    "session = sagemaker.Session()\n",
    "role = sagemaker.get_execution_role()\n",
    "\n",
    "s3_train_path = s3_train_path\n",
    "\n",
    "# Create estimator\n",
    "estimator = PyTorch(\n",
    "    entry_point=\"train.py\",\n",
    "    source_dir=\".\",\n",
    "    role=role,\n",
    "    framework_version=\"1.13\",\n",
    "    py_version=\"py39\",\n",
    "    instance_count=1,\n",
    "    instance_type=\"ml.m4.xlarge\",\n",
    "    hyperparameters={\n",
    "        \"epochs\": 20,\n",
    "        \"batch-size\": 64,\n",
    "        \"hidden-size\": 128,\n",
    "        \"num-layers\": 2,\n",
    "        \"seq-len\": 30,\n",
    "        \"lr\": 1e-3\n",
    "    },\n",
    ")\n",
    "\n",
    "# Start training\n",
    "estimator.fit({\"train\": s3_train_path})\n"
   ]
  },
  {
   "cell_type": "markdown",
   "id": "7d2d111e-46fe-4743-9d5c-7e8568884537",
   "metadata": {},
   "source": [
    "# Inference"
   ]
  },
  {
   "cell_type": "code",
   "execution_count": 78,
   "id": "f0cbe967-1871-4729-9443-0a3712376079",
   "metadata": {
    "execution": {
     "iopub.execute_input": "2025-09-11T13:55:59.934768Z",
     "iopub.status.busy": "2025-09-11T13:55:59.934497Z",
     "iopub.status.idle": "2025-09-11T13:56:00.052710Z",
     "shell.execute_reply": "2025-09-11T13:56:00.052092Z",
     "shell.execute_reply.started": "2025-09-11T13:55:59.934746Z"
    }
   },
   "outputs": [
    {
     "name": "stdout",
     "output_type": "stream",
     "text": [
      "Configured predictor with JSON serializers\n",
      "\n",
      "Testing the endpoint...\n",
      "Success!\n",
      "Response: {'predictions': [{'predicted_class': 'belt slippage', 'confidence': 0.8073613047599792, 'all_probabilities': {'ball bearing': 0.16195383667945862, 'belt slippage': 0.8073613047599792, 'central shaft': 0.00467093288898468, 'drive motor': 0.0009125770884566009, 'idler roller fault': 0.012591534294188023, 'pulley': 0.012509861961007118}}, {'predicted_class': 'belt slippage', 'confidence': 0.47998523712158203, 'all_probabilities': {'ball bearing': 0.3270701766014099, 'belt slippage': 0.47998523712158203, 'central shaft': 0.11478602886199951, 'drive motor': 0.015154252760112286, 'idler roller fault': 0.02549790032207966, 'pulley': 0.037506427615880966}}]}\n",
      "\n",
      "Prediction Results:\n",
      "Sample 1:\n",
      "  Predicted Class: belt slippage\n",
      "  Confidence: 0.8074\n",
      "\n",
      "Sample 2:\n",
      "  Predicted Class: belt slippage\n",
      "  Confidence: 0.4800\n",
      "\n"
     ]
    }
   ],
   "source": [
    "# Since you already have an endpoint deployed, let's fix the serialization issue\n",
    "# Run this code to configure your existing predictor properly:\n",
    "\n",
    "from sagemaker.serializers import JSONSerializer\n",
    "from sagemaker.deserializers import JSONDeserializer\n",
    "from sagemaker.predictor import Predictor\n",
    "import sagemaker\n",
    "import json\n",
    "\n",
    "# Get your session\n",
    "session = sagemaker.Session()\n",
    "\n",
    "# Connect to your existing endpoint\n",
    "endpoint_name = \"pytorch-inference-2025-09-11-13-37-04-346\"  # Your endpoint name from the output above\n",
    "predictor = Predictor(endpoint_name=endpoint_name, sagemaker_session=session)\n",
    "\n",
    "# Configure JSON serialization (this is what was missing!)\n",
    "predictor.serializer = JSONSerializer()\n",
    "predictor.deserializer = JSONDeserializer()\n",
    "\n",
    "print(\"Configured predictor with JSON serializers\")\n",
    "\n",
    "# Test the endpoint with proper serialization\n",
    "print(\"\\nTesting the endpoint...\")\n",
    "\n",
    "test_payload = {\n",
    "    \"instances\": [\n",
    "        {\n",
    "            \"Speed (rpm)\": 120.0,\n",
    "            \"Load (kg)\": 30.0,\n",
    "            \"Temperature (℃)\": 40.0,\n",
    "            \"Vibration (m/s²)\": 0.9,\n",
    "            \"Current (A)\": 3.2\n",
    "        },\n",
    "        {\n",
    "            \"Speed (rpm)\": 150.0,\n",
    "            \"Load (kg)\": 45.0,\n",
    "            \"Temperature (℃)\": 55.0,\n",
    "            \"Vibration (m/s²)\": 1.2,\n",
    "            \"Current (A)\": 4.1\n",
    "        }\n",
    "    ]\n",
    "}\n",
    "\n",
    "try:\n",
    "    response = predictor.predict(test_payload)\n",
    "    print(\"Success!\")\n",
    "    print(\"Response:\", response)\n",
    "    \n",
    "    # Parse and display results nicely\n",
    "    result = response  # Should already be parsed due to JSONDeserializer\n",
    "    print(\"\\nPrediction Results:\")\n",
    "    for i, pred in enumerate(result[\"predictions\"]):\n",
    "        print(f\"Sample {i+1}:\")\n",
    "        print(f\"  Predicted Class: {pred['predicted_class']}\")\n",
    "        print(f\"  Confidence: {pred['confidence']:.4f}\")\n",
    "        print()\n",
    "        \n",
    "except Exception as e:\n",
    "    print(f\"Error: {e}\")\n",
    "    print(\"\\nCheck CloudWatch logs for detailed error information:\")\n",
    "    print(f\"https://console.aws.amazon.com/cloudwatch/home?region=us-west-2#logEventViewer:group=/aws/sagemaker/Endpoints/{endpoint_name}\")\n",
    "\n",
    "# Optional: Clean up (uncomment to delete endpoint after testing)\n",
    "# print(\"\\nCleaning up endpoint...\")\n",
    "# predictor.delete_endpoint()\n",
    "# print(\"Endpoint deleted.\")"
   ]
  },
  {
   "cell_type": "code",
   "execution_count": 77,
   "id": "26e3f30d-a2a5-4281-b29d-72a7ddcdd591",
   "metadata": {
    "execution": {
     "iopub.execute_input": "2025-09-11T13:55:17.309800Z",
     "iopub.status.busy": "2025-09-11T13:55:17.309536Z",
     "iopub.status.idle": "2025-09-11T13:55:17.344374Z",
     "shell.execute_reply": "2025-09-11T13:55:17.343835Z",
     "shell.execute_reply.started": "2025-09-11T13:55:17.309780Z"
    }
   },
   "outputs": [
    {
     "name": "stdout",
     "output_type": "stream",
     "text": [
      "{'predictions': [{'predicted_class': 'drive motor', 'confidence': 0.8380087018013, 'all_probabilities': {'ball bearing': 0.001289673033170402, 'belt slippage': 0.0015837793471291661, 'central shaft': 0.1338430792093277, 'drive motor': 0.8380087018013, 'idler roller fault': 0.011230221949517727, 'pulley': 0.014044506475329399}}]}\n"
     ]
    }
   ],
   "source": [
    "import json\n",
    "\n",
    "payload = {\n",
    "    \"instances\": [\n",
    "        {\"Speed (rpm)\": 120, \"Load (kg)\": 300, \"Temperature (℃)\": 60, \"Vibration (m/s²)\": 1.2, \"Current (A)\": 10}\n",
    "    ]\n",
    "}\n",
    "\n",
    "\n",
    "response = predictor.predict(payload)\n",
    "print(response)\n"
   ]
  },
  {
   "cell_type": "code",
   "execution_count": null,
   "id": "c65f35cd-284f-4afa-9cbb-275edae64fc5",
   "metadata": {},
   "outputs": [],
   "source": []
  }
 ],
 "metadata": {
  "kernelspec": {
   "display_name": "Python 3 (ipykernel)",
   "language": "python",
   "name": "python3"
  },
  "language_info": {
   "codemirror_mode": {
    "name": "ipython",
    "version": 3
   },
   "file_extension": ".py",
   "mimetype": "text/x-python",
   "name": "python",
   "nbconvert_exporter": "python",
   "pygments_lexer": "ipython3",
   "version": "3.12.9"
  }
 },
 "nbformat": 4,
 "nbformat_minor": 5
}
